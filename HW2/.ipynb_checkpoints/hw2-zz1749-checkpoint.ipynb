{
 "cells": [
  {
   "cell_type": "code",
   "execution_count": 2,
   "metadata": {
    "ExecuteTime": {
     "end_time": "2018-02-27T01:51:21.335139Z",
     "start_time": "2018-02-27T01:51:17.389855Z"
    }
   },
   "outputs": [
    {
     "name": "stdout",
     "output_type": "stream",
     "text": [
      "Populating the interactive namespace from numpy and matplotlib\n"
     ]
    }
   ],
   "source": [
    "import numpy as np\n",
    "import glob\n",
    "import sys\n",
    "import imageio\n",
    "import scipy.misc\n",
    "import tensorflow as tf\n",
    "from tensorflow.python.framework import ops\n",
    "from sklearn.model_selection import train_test_split\n",
    "import math\n",
    "import matplotlib.pyplot as plt\n",
    "%pylab inline\n",
    "import pandas as pd"
   ]
  },
  {
   "cell_type": "code",
   "execution_count": 3,
   "metadata": {
    "ExecuteTime": {
     "end_time": "2018-02-27T01:51:21.555387Z",
     "start_time": "2018-02-27T01:51:21.548368Z"
    }
   },
   "outputs": [],
   "source": [
    "def get_files_train(folder):\n",
    "    \"\"\"\n",
    "    Given path to folder, returns list of files in it\n",
    "    \"\"\"\n",
    "    filenames = [file for file in glob.glob(folder+'*/*')]\n",
    "    filenames.sort(key= lambda x:int(x[11:x.index('_')]))\n",
    "    return filenames"
   ]
  },
  {
   "cell_type": "code",
   "execution_count": 4,
   "metadata": {
    "ExecuteTime": {
     "end_time": "2018-02-27T01:51:22.072688Z",
     "start_time": "2018-02-27T01:51:22.066672Z"
    }
   },
   "outputs": [],
   "source": [
    "def get_files_test(folder):\n",
    "    \"\"\"\n",
    "    Given path to folder, returns list of files in it\n",
    "    \"\"\"\n",
    "    filenames = [file for file in glob.glob(folder+'*/*')]\n",
    "    filenames.sort(key= lambda x:int(x[10:x.index('.')]))\n",
    "    return filenames"
   ]
  },
  {
   "cell_type": "code",
   "execution_count": 5,
   "metadata": {
    "ExecuteTime": {
     "end_time": "2018-02-27T01:54:58.673451Z",
     "start_time": "2018-02-27T01:54:58.472497Z"
    }
   },
   "outputs": [],
   "source": [
    "# Helper functions, DO NOT modify this\n",
    "\n",
    "def get_img_array(path):\n",
    "    \"\"\"\n",
    "    Given path of image, returns it's numpy array\n",
    "    \"\"\"\n",
    "    return imageio.imread(path)\n",
    "\n",
    "def resize_img(img_arr, target_dim=(50, 50)):\n",
    "    \"\"\"\n",
    "    Resizes img represented as numpy array\n",
    "    \"\"\"\n",
    "    return scipy.misc.imresize(img_arr, target_dim)\n",
    "\n",
    "def get_label(filepath, label2id):\n",
    "    \"\"\"\n",
    "    Files are assumed to be labeled as: /path/to/file/999_frog.png\n",
    "    Returns label for a filepath\n",
    "    \"\"\"\n",
    "    tokens = filepath.split('/')\n",
    "    label = tokens[-1].split('_')[1][:-4]\n",
    "    if label in label2id:\n",
    "        return label2id[label]\n",
    "    else:\n",
    "        sys.exit(\"Invalid label: \" + label)\n",
    "\n",
    "# Functions to load data\n",
    "\n",
    "def get_labels(folder, label2id):\n",
    "    \"\"\"\n",
    "    Returns vector of labels extracted from filenames of all files in folder\n",
    "    :param folder: path to data folder\n",
    "    :param label2id: mapping of text labels to numeric ids. (Eg: automobile -> 0)\n",
    "    \"\"\"\n",
    "    files = get_files_train(folder)\n",
    "    y = []\n",
    "    for f in files:\n",
    "        y.append(get_label(f,label2id))\n",
    "    return np.array(y)\n",
    "\n",
    "def one_hot(y, num_classes=10):\n",
    "    \"\"\"\n",
    "    Converts each label index in y to vector with one_hot encoding\n",
    "    \"\"\"\n",
    "    y_one_hot = np.zeros((y.shape[0], num_classes))\n",
    "    y_one_hot[y] = 1\n",
    "    return y_one_hot.T\n",
    "\n",
    "def get_label_mapping(label_file):\n",
    "    \"\"\"\n",
    "    Returns mappings of label to index and index to label\n",
    "    The input file has list of labels, each on a separate line.\n",
    "    \"\"\"\n",
    "    with open(label_file, 'r') as f:\n",
    "        id2label = f.readlines()\n",
    "        id2label = [l.strip() for l in id2label]\n",
    "    label2id = {}\n",
    "    count = 0\n",
    "    for label in id2label:\n",
    "        label2id[label] = count\n",
    "        count += 1\n",
    "    return id2label, label2id\n",
    "\n",
    "def get_images(folder):\n",
    "    \"\"\"\n",
    "    returns numpy array of all samples in folder\n",
    "    each column is a sample resized to 30x30 and flattened\n",
    "    \"\"\"\n",
    "    if 'train' in folder:\n",
    "        files = get_files_train(folder)\n",
    "    elif 'test' in folder:\n",
    "        files = get_files_test(folder)\n",
    "    images = []\n",
    "    count = 0\n",
    "\n",
    "    for f in files:\n",
    "        count += 1\n",
    "        if count % 5000 == 0:\n",
    "            print(\"Loaded {}/{}\".format(count,len(files)))\n",
    "#         if count > 100:\n",
    "#             break\n",
    "        img_arr = get_img_array(f)/255.0\n",
    "        images.append(img_arr)\n",
    "#     X = tf.map_fn(lambda image: tf.image.per_image_standardization(image), images, tf.int32)\n",
    "    X = np.array(images)\n",
    "#     X = images\n",
    "    return X\n",
    "\n",
    "def get_train_data(data_root_path, suffix=\"train\"):\n",
    "    \"\"\"\n",
    "    Return X and y\n",
    "    \"\"\"\n",
    "    train_data_path = data_root_path + suffix\n",
    "    id2label, label2id = get_label_mapping(data_root_path+'labels.txt')\n",
    "    print(label2id)\n",
    "    X = get_images(train_data_path)\n",
    "    y = get_labels(train_data_path, label2id)\n",
    "    return X, y\n",
    "\n",
    "def save_predictions(filename, y):\n",
    "    np.save(filename, y)"
   ]
  },
  {
   "cell_type": "code",
   "execution_count": 6,
   "metadata": {
    "ExecuteTime": {
     "end_time": "2018-02-27T01:55:40.696400Z",
     "start_time": "2018-02-27T01:54:59.524632Z"
    }
   },
   "outputs": [
    {
     "name": "stdout",
     "output_type": "stream",
     "text": [
      "{'airplane': 0, 'automobile': 1, 'bird': 2, 'cat': 3, 'deer': 4, 'dog': 5, 'frog': 6, 'horse': 7, 'ship': 8, 'truck': 9}\n",
      "Loaded 5000/45000\n",
      "Loaded 10000/45000\n",
      "Loaded 15000/45000\n",
      "Loaded 20000/45000\n",
      "Loaded 25000/45000\n",
      "Loaded 30000/45000\n",
      "Loaded 35000/45000\n",
      "Loaded 40000/45000\n",
      "Loaded 45000/45000\n",
      "Train data loading done\n"
     ]
    }
   ],
   "source": [
    "# Load train data\n",
    "data_root_path = 'data/'\n",
    "# data_root_path = './cifar10-simple/'\n",
    "X_train, y_train = get_train_data(data_root_path) # this may take a few minutes\n",
    "# X_centered = (X_train - np.mean(X_train, axis=1)[:, np.newaxis])\n",
    "# X_div = (X_centered / np.std(X_centered, axis=1)[:, np.newaxis])\n",
    "# X_train = X_div\n",
    "print('Train data loading done')"
   ]
  },
  {
   "cell_type": "code",
   "execution_count": 7,
   "metadata": {
    "ExecuteTime": {
     "end_time": "2018-02-27T01:55:47.517563Z",
     "start_time": "2018-02-27T01:55:47.487457Z"
    }
   },
   "outputs": [
    {
     "name": "stdout",
     "output_type": "stream",
     "text": [
      "(45000, 32, 32, 3) (45000,)\n"
     ]
    }
   ],
   "source": [
    "print(X_train.shape,y_train.shape)"
   ]
  },
  {
   "cell_type": "code",
   "execution_count": 8,
   "metadata": {
    "ExecuteTime": {
     "end_time": "2018-02-27T01:56:56.386450Z",
     "start_time": "2018-02-27T01:56:51.174111Z"
    }
   },
   "outputs": [
    {
     "name": "stdout",
     "output_type": "stream",
     "text": [
      "Loaded 5000/5000\n",
      "Test data loading done\n"
     ]
    }
   ],
   "source": [
    "#Load test data\n",
    "X_test = get_images(data_root_path + 'test')\n",
    "# X_centered = (X_test - np.mean(X_test, axis=1)[:, np.newaxis])\n",
    "# X_div = (X_centered / np.std(X_centered, axis=1)[:, np.newaxis])\n",
    "# X_test = X_div\n",
    "print('Test data loading done')"
   ]
  },
  {
   "cell_type": "code",
   "execution_count": 9,
   "metadata": {
    "ExecuteTime": {
     "end_time": "2018-02-27T01:57:02.915489Z",
     "start_time": "2018-02-27T01:57:02.910475Z"
    }
   },
   "outputs": [
    {
     "data": {
      "text/plain": [
       "(5000, 32, 32, 3)"
      ]
     },
     "execution_count": 9,
     "metadata": {},
     "output_type": "execute_result"
    }
   ],
   "source": [
    "X_test.shape"
   ]
  },
  {
   "cell_type": "code",
   "execution_count": 10,
   "metadata": {
    "ExecuteTime": {
     "end_time": "2018-02-27T01:57:06.604252Z",
     "start_time": "2018-02-27T01:57:06.554538Z"
    }
   },
   "outputs": [],
   "source": [
    "def one_hot_matrix(labels, C):\n",
    "    \"\"\"\n",
    "    Creates a matrix where the i-th row corresponds to the ith class number and the jth column\n",
    "                     corresponds to the jth training example. So if example j had a label i. Then entry (i,j) \n",
    "                     will be 1. \n",
    "                     \n",
    "    Arguments:\n",
    "    labels -- vector containing the labels \n",
    "    C -- number of classes, the depth of the one hot dimension\n",
    "    \n",
    "    Returns: \n",
    "    one_hot -- one hot matrix\n",
    "    \"\"\"\n",
    "    # Create a tf.constant equal to C (depth), name it 'C'. (approx. 1 line)\n",
    "    C = tf.constant(C, name='C')\n",
    "    \n",
    "    # Use tf.one_hot, be careful with the axis (approx. 1 line)\n",
    "    one_hot_matrix = tf.one_hot(labels,C,1)\n",
    "    \n",
    "    # Create the session (approx. 1 line)\n",
    "    sess = tf.Session()\n",
    "    \n",
    "    # Run the session (approx. 1 line)\n",
    "    one_hot = sess.run(one_hot_matrix)\n",
    "    \n",
    "    # Close the session (approx. 1 line). See method 1 above.\n",
    "    sess.close()\n",
    "    \n",
    "    return one_hot"
   ]
  },
  {
   "cell_type": "code",
   "execution_count": 11,
   "metadata": {
    "ExecuteTime": {
     "end_time": "2018-02-27T01:57:10.656825Z",
     "start_time": "2018-02-27T01:57:07.722003Z"
    }
   },
   "outputs": [],
   "source": [
    "Y_train = one_hot_matrix(y_train,10)"
   ]
  },
  {
   "cell_type": "code",
   "execution_count": 12,
   "metadata": {
    "ExecuteTime": {
     "end_time": "2018-02-27T01:57:14.336584Z",
     "start_time": "2018-02-27T01:57:14.327110Z"
    }
   },
   "outputs": [],
   "source": [
    "def create_placeholders(n_H0, n_W0, n_C0, n_y):\n",
    "    \"\"\"\n",
    "    Creates the placeholders for the tensorflow session.\n",
    "    \n",
    "    Arguments:\n",
    "    n_H0 -- scalar, height of an input image\n",
    "    n_W0 -- scalar, width of an input image\n",
    "    n_C0 -- scalar, number of channels of the input\n",
    "    n_y -- scalar, number of classes\n",
    "        \n",
    "    Returns:\n",
    "    X -- placeholder for the data input, of shape [None, n_H0, n_W0, n_C0] and dtype \"float\"\n",
    "    Y -- placeholder for the input labels, of shape [None, n_y] and dtype \"float\"\n",
    "    \"\"\"\n",
    "\n",
    "    ### START CODE HERE ### (≈2 lines)\n",
    "    X = tf.placeholder(tf.float32,shape=[None,n_H0,n_W0,n_C0],name='X')\n",
    "    Y = tf.placeholder(tf.float32,shape=[None,n_y],name='Y')\n",
    "    ### END CODE HERE ###\n",
    "    \n",
    "    return X, Y"
   ]
  },
  {
   "cell_type": "code",
   "execution_count": 13,
   "metadata": {
    "ExecuteTime": {
     "end_time": "2018-02-27T01:57:15.386521Z",
     "start_time": "2018-02-27T01:57:15.371512Z"
    }
   },
   "outputs": [],
   "source": [
    "def initialize_parameters():\n",
    "    \"\"\"\n",
    "    Initializes weight parameters to build a neural network with tensorflow. \n",
    "    \n",
    "    Returns:\n",
    "    parameters -- a dictionary of tensors containing W1, W2\n",
    "    \"\"\"\n",
    "    \n",
    "        \n",
    "    ### START CODE HERE ### (approx. 2 lines of code)\n",
    "    W1 = tf.get_variable('W1',[5,5,3,64],initializer= tf.contrib.layers.xavier_initializer(seed = 0))\n",
    "    b1 = tf.get_variable('b1',[64],initializer= tf.contrib.layers.xavier_initializer(seed = 0))\n",
    "    W2 = tf.get_variable('W2',[5,5,64,64],initializer= tf.contrib.layers.xavier_initializer(seed = 0))\n",
    "    b2 = tf.get_variable('b2',[64],initializer= tf.contrib.layers.xavier_initializer(seed = 0))\n",
    "    ### END CODE HERE ###\n",
    "\n",
    "    parameters = {\"W1\": W1,\n",
    "                  \"W2\": W2,\n",
    "                 'b1':b1,\n",
    "                 'b2':b2}\n",
    "    \n",
    "    return parameters"
   ]
  },
  {
   "cell_type": "code",
   "execution_count": 14,
   "metadata": {
    "ExecuteTime": {
     "end_time": "2018-02-27T01:57:16.391967Z",
     "start_time": "2018-02-27T01:57:16.383945Z"
    }
   },
   "outputs": [],
   "source": [
    "def norm(x):\n",
    "    return tf.nn.lrn(x, 4, bias=1.0, alpha=0.001 / 9.0, beta=0.75)\n",
    "def max_pool_2x2(x): return tf.nn.max_pool(x, ksize=[1, 2, 2, 1], strides=[1, 2, 2, 1], padding='SAME')\n",
    "def conv2d(x, W):\n",
    "    return tf.nn.conv2d(x, W, strides=[1, 1, 1, 1], padding='SAME')"
   ]
  },
  {
   "cell_type": "code",
   "execution_count": 15,
   "metadata": {
    "ExecuteTime": {
     "end_time": "2018-02-27T04:17:18.433108Z",
     "start_time": "2018-02-27T04:17:18.390485Z"
    }
   },
   "outputs": [],
   "source": [
    "def forward_propagation_cost(X,Y,parameters):\n",
    "    \"\"\"\n",
    "    Implements the forward propagation for the model:\n",
    "    CONV2D -> RELU -> MAXPOOL -> CONV2D -> RELU -> MAXPOOL -> FLATTEN -> FULLYCONNECTED\n",
    "    \n",
    "    Arguments:\n",
    "    X -- input dataset placeholder, of shape (input size, number of examples)\n",
    "    parameters -- python dictionary containing your parameters \"W1\", \"W2\"\n",
    "                  the shapes are given in initialize_parameters\n",
    "\n",
    "    Returns:\n",
    "    Z3 -- the output of the last LINEAR unit\n",
    "    \"\"\"\n",
    "    \n",
    "    # Retrieve the parameters from the dictionary \"parameters\" \n",
    "    W1 = parameters['W1']\n",
    "    W2 = parameters['W2']\n",
    "    b1 = parameters['b1']\n",
    "    b2 = parameters['b2']\n",
    "    \n",
    "    ### START CODE HERE ###\n",
    "    # CONV2D: stride of 1, padding 'SAME'\n",
    "    Z1 = conv2d(X,W1)+b1\n",
    "    # RELU\n",
    "    A1 = tf.nn.relu(Z1)\n",
    "    # MAXPOOL: window 8x8, sride 8, padding 'SAME'\n",
    "    P1 = norm(max_pool_2x2(A1))\n",
    "    # CONV2D: filters W2, stride 1, padding 'SAME'\n",
    "    Z2 = conv2d(P1,W2)+b2\n",
    "    # RELU\n",
    "    A2 = norm(tf.nn.relu(Z2))\n",
    "    # MAXPOOL: window 4x4, stride 4, padding 'SAME'\n",
    "    P2 = max_pool_2x2(A2)\n",
    "    # FLATTEN\n",
    "    P2 = tf.contrib.layers.flatten(P2)\n",
    "    \n",
    "    # 10 neurons in output layer. Hint: one of the arguments should be \"activation_fn=None\" \n",
    "    \n",
    "    keep_prob = tf.placeholder(tf.float32,name='keep_prob')\n",
    "    P2 = tf.nn.dropout(P2,keep_prob)\n",
    "    Z3 = tf.contrib.layers.fully_connected(P2,10,activation_fn=None)\n",
    "    \n",
    "    cost = tf.reduce_mean(tf.nn.softmax_cross_entropy_with_logits_v2(logits=Z3,labels=Y))\n",
    "    ### END CODE HERE ###\n",
    "\n",
    "    return Z3, keep_prob, cost"
   ]
  },
  {
   "cell_type": "code",
   "execution_count": 16,
   "metadata": {
    "ExecuteTime": {
     "end_time": "2018-02-27T04:17:18.637698Z",
     "start_time": "2018-02-27T04:17:18.591570Z"
    },
    "code_folding": []
   },
   "outputs": [],
   "source": [
    "def random_mini_batches(X, Y, mini_batch_size = 64, seed = 0):\n",
    "    \"\"\"\n",
    "    Creates a list of random minibatches from (X, Y)\n",
    "    \n",
    "    Arguments:\n",
    "    X -- input data, of shape (input size, number of examples)\n",
    "    Y -- true \"label\" vector (1 for blue dot / 0 for red dot), of shape (1, number of examples)\n",
    "    mini_batch_size -- size of the mini-batches, integer\n",
    "    \n",
    "    Returns:\n",
    "    mini_batches -- list of synchronous (mini_batch_X, mini_batch_Y)\n",
    "    \"\"\"\n",
    "    \n",
    "    np.random.seed(seed)            # To make your \"random\" minibatches the same as ours\n",
    "    m = X.shape[0]                  # number of training examples\n",
    "    mini_batches = []\n",
    "        \n",
    "    # Step 1: Shuffle (X, Y)\n",
    "    permutation = list(np.random.permutation(m))\n",
    "    shuffled_X = X[permutation,:,:,:]\n",
    "    shuffled_Y = Y[permutation,:]\n",
    "\n",
    "    # Step 2: Partition (shuffled_X, shuffled_Y). Minus the end case.\n",
    "    num_complete_minibatches = math.floor(m/mini_batch_size) # number of mini batches of size mini_batch_size in your partitionning\n",
    "    for k in range(0, num_complete_minibatches):\n",
    "        ### START CODE HERE ### (approx. 2 lines)\n",
    "        mini_batch_X = shuffled_X[k*mini_batch_size:(k+1)*mini_batch_size,:,:,:]\n",
    "        mini_batch_Y = shuffled_Y[k*mini_batch_size:(k+1)*mini_batch_size,:]\n",
    "        ### END CODE HERE ###\n",
    "        mini_batch = (mini_batch_X, mini_batch_Y)\n",
    "        mini_batches.append(mini_batch)\n",
    "    \n",
    "    # Handling the end case (last mini-batch < mini_batch_size)\n",
    "    if m % mini_batch_size != 0:\n",
    "        ### START CODE HERE ### (approx. 2 lines)\n",
    "        mini_batch_X = shuffled_X[num_complete_minibatches*mini_batch_size:,:,:,:]\n",
    "        mini_batch_Y = shuffled_Y[num_complete_minibatches*mini_batch_size:,:]\n",
    "        ### END CODE HERE ###\n",
    "        mini_batch = (mini_batch_X, mini_batch_Y)\n",
    "        mini_batches.append(mini_batch)\n",
    "    \n",
    "    return mini_batches"
   ]
  },
  {
   "cell_type": "code",
   "execution_count": 58,
   "metadata": {
    "ExecuteTime": {
     "end_time": "2018-02-27T04:32:29.667541Z",
     "start_time": "2018-02-27T04:32:29.664559Z"
    }
   },
   "outputs": [],
   "source": [
    "dict = {'airplane': 0, 'automobile': 1, 'bird': 2, 'cat': 3, 'deer': 4, 'dog': 5, 'frog': 6, 'horse': 7, 'ship': 8, 'truck': 9}"
   ]
  },
  {
   "cell_type": "code",
   "execution_count": 85,
   "metadata": {
    "ExecuteTime": {
     "end_time": "2018-02-27T04:17:19.075419Z",
     "start_time": "2018-02-27T04:17:18.844212Z"
    }
   },
   "outputs": [],
   "source": [
    "def model(X_train, Y_train, X_test, Y_test,test, learning_rate = 0.1,\n",
    "          num_epochs = 100, minibatch_size = 64, print_cost = True, optimizer='GD',kp=1.0):\n",
    "    \"\"\"\n",
    "    Implements a three-layer ConvNet in Tensorflow:\n",
    "    CONV2D -> RELU -> MAXPOOL -> CONV2D -> RELU -> MAXPOOL -> FLATTEN -> FULLYCONNECTED\n",
    "    \n",
    "    Arguments:\n",
    "    X_train -- training set\n",
    "    Y_train -- test set\n",
    "    X_test -- training set\n",
    "    Y_test -- test set\n",
    "    learning_rate -- learning rate of the optimization\n",
    "    num_epochs -- number of epochs of the optimization loop\n",
    "    minibatch_size -- size of a minibatch\n",
    "    print_cost -- True to print the cost every 100 epochs\n",
    "    \n",
    "    Returns:\n",
    "    train_accuracy -- real number, accuracy on the train set (X_train)\n",
    "    test_accuracy -- real number, testing accuracy on the test set (X_test)\n",
    "    parameters -- parameters learnt by the model. They can then be used to predict.\n",
    "    \"\"\"\n",
    "    print(test.shape)\n",
    "    ops.reset_default_graph()                         # to be able to rerun the model without overwriting tf variables\n",
    "    tf.set_random_seed(1)                             # to keep results consistent (tensorflow seed)\n",
    "    seed = 3                                          # to keep results consistent (numpy seed)\n",
    "    (m, n_H0, n_W0, n_C0) = X_train.shape             \n",
    "    n_y = Y_train.shape[1]                            \n",
    "    costs = []                                        # To keep track of the cost\n",
    "    \n",
    "    # Create Placeholders of the correct shape\n",
    "    ### START CODE HERE ### (1 line)\n",
    "    X, Y = create_placeholders(n_H0,n_W0,n_C0,n_y)\n",
    "    ### END CODE HERE ###\n",
    "\n",
    "    # Initialize parameters\n",
    "    ### START CODE HERE ### (1 line)\n",
    "    parameters = initialize_parameters()\n",
    "    ### END CODE HERE ###\n",
    "    \n",
    "    # Forward propagation: Build the forward propagation in the tensorflow graph\n",
    "    # Cost function: Add cost function to tensorflow graph\n",
    "    ### START CODE HERE ### (1 line)\n",
    "    Z3,keep_prob,cost = forward_propagation_cost(X,Y,parameters)\n",
    "    ### END CODE HERE ###\n",
    "    \n",
    "    # Backpropagation: Define the tensorflow optimizer. Use an AdamOptimizer that minimizes the cost.\n",
    "    ### START CODE HERE ### (1 line)\n",
    "    #global_ = tf.Variable(tf.constant(0))  \n",
    "    global_step = tf.Variable(0)\n",
    "    lr = tf.train.exponential_decay(learning_rate,global_step,705,0.88,staircase=False)\n",
    "    if optimizer == 'GD':\n",
    "        optimizer = tf.train.GradientDescentOptimizer(learning_rate=lr).minimize(cost,global_step=global_step)\n",
    "    elif optimizer == 'adam':\n",
    "        optimizer = tf.train.AdamOptimizer(learning_rate=lr).minimize(cost,global_step=global_step)\n",
    "    ### END CODE HERE ###\n",
    "    \n",
    "    # Initialize all the variables globally\n",
    "    init = tf.global_variables_initializer()\n",
    "    \n",
    "    # Start the session to compute the tensorflow graph\n",
    "    with tf.Session() as sess:\n",
    "        \n",
    "        # Run the initialization\n",
    "        sess.run(init)\n",
    "        \n",
    "        # Do the training loop\n",
    "        for epoch in range(num_epochs):\n",
    "\n",
    "            minibatch_cost = 0.\n",
    "            num_minibatches = int(m / minibatch_size) # number of minibatches of size minibatch_size in the train set\n",
    "            seed = seed + 1\n",
    "            minibatches = random_mini_batches(X_train, Y_train, minibatch_size, seed)\n",
    "\n",
    "            for minibatch in minibatches:\n",
    "            \n",
    "                # Select a minibatch\n",
    "                (minibatch_X, minibatch_Y) = minibatch\n",
    "                # IMPORTANT: The line that runs the graph on a mfinibatch.\n",
    "                # Run the session to execute the optimizer and the cost, the feedict should contain a minibatch for (X,Y).\n",
    "                ### START CODE HERE ### (1 line)\n",
    "                _ , temp_cost = sess.run([optimizer,cost],feed_dict={keep_prob:kp,X:minibatch_X,Y:minibatch_Y})\n",
    "                ### END CODE HERE ###\n",
    "                \n",
    "                minibatch_cost += temp_cost / num_minibatches\n",
    "            \n",
    "            predict_op = tf.argmax(Z3, 1)\n",
    "            Y_train_pred = predict_op.eval({X: minibatch_X,keep_prob:1.0})\n",
    "            Y_train_orig = [np.argwhere(x==1)[0][0] for x in minibatch_Y]\n",
    "            Y_test_pred = predict_op.eval({X: X_test,keep_prob:1.0})\n",
    "            Y_test_orig = [np.argwhere(x==1)[0][0] for x in Y_test]\n",
    "            train_acc = 100.0*sum(Y_train_pred==Y_train_orig)/len(Y_train_orig)\n",
    "            test_acc = 100.0*sum(Y_test_pred==Y_test_orig)/len(Y_test_orig)\n",
    "            # Print the cost every epoch\n",
    "            if print_cost == True and epoch % 1 == 0:\n",
    "                print (\"Cost after epoch %i: %f, train accuracy: %f, test accuracy: %f\" % (epoch, minibatch_cost, train_acc, test_acc))\n",
    "\n",
    "            if print_cost == True and epoch % 1 == 0:\n",
    "                costs.append(minibatch_cost)\n",
    "        \n",
    "        \n",
    "        # plot the cost\n",
    "        plt.plot(np.squeeze(costs))\n",
    "        plt.ylabel('cost')\n",
    "        plt.xlabel('iterations (per tens)')\n",
    "        plt.title(\"Learning rate =\" + str(learning_rate))\n",
    "        plt.show()\n",
    "        #predict_op = tf.argmax(Z3, 1)\n",
    "        #correct_prediction = tf.equal(predict_op, tf.argmax(Y, 1))\n",
    "\n",
    "        # Calculate accuracy on the test set\n",
    "        #accuracy = tf.reduce_mean(tf.cast(correct_prediction, \"float\"))\n",
    "\n",
    "        save_predictions('ans-zz1749.npy',predict_op.eval({X: test,keep_prob:1.0}))\n",
    "        # Calculate the correct predictions\n",
    "        # train_accuracy = accuracy.eval({X: X_train, Y: Y_train,keep_prob:0.8})\n",
    "        # test_accuracy = accuracy.eval({X: X_test, Y: Y_test,keep_prob:0.8})\n",
    "        #print(\"Train Accuracy:\", train_accuracy)\n",
    "        #print(\"Test Accuracy:\", test_accuracy)\n",
    "        return parameters"
   ]
  },
  {
   "cell_type": "code",
   "execution_count": 86,
   "metadata": {
    "ExecuteTime": {
     "end_time": "2018-02-27T03:12:40.915886Z",
     "start_time": "2018-02-27T03:12:40.305117Z"
    }
   },
   "outputs": [],
   "source": [
    "X_t,X_d,Y_t,Y_d = train_test_split(X_train,Y_train,test_size = 1./3)"
   ]
  },
  {
   "cell_type": "code",
   "execution_count": 88,
   "metadata": {
    "ExecuteTime": {
     "end_time": "2018-02-27T04:30:40.943795Z",
     "start_time": "2018-02-27T04:17:27.051219Z"
    },
    "scrolled": false
   },
   "outputs": [
    {
     "name": "stdout",
     "output_type": "stream",
     "text": [
      "(5000, 32, 32, 3)\n",
      "Cost after epoch 0: 1.584687, train accuracy: 75.000000, test accuracy: 52.606667\n",
      "Cost after epoch 1: 1.247388, train accuracy: 37.500000, test accuracy: 60.280000\n",
      "Cost after epoch 2: 1.100087, train accuracy: 75.000000, test accuracy: 65.220000\n",
      "Cost after epoch 3: 1.004681, train accuracy: 100.000000, test accuracy: 68.693333\n",
      "Cost after epoch 4: 0.937924, train accuracy: 50.000000, test accuracy: 70.360000\n",
      "Cost after epoch 5: 0.883074, train accuracy: 75.000000, test accuracy: 72.646667\n",
      "Cost after epoch 6: 0.837138, train accuracy: 87.500000, test accuracy: 74.500000\n",
      "Cost after epoch 7: 0.805721, train accuracy: 62.500000, test accuracy: 74.686667\n",
      "Cost after epoch 8: 0.776463, train accuracy: 100.000000, test accuracy: 75.173333\n",
      "Cost after epoch 9: 0.756324, train accuracy: 100.000000, test accuracy: 76.553333\n",
      "Cost after epoch 10: 0.736400, train accuracy: 75.000000, test accuracy: 77.406667\n",
      "Cost after epoch 11: 0.716784, train accuracy: 62.500000, test accuracy: 77.506667\n",
      "Cost after epoch 12: 0.701848, train accuracy: 62.500000, test accuracy: 77.900000\n",
      "Cost after epoch 13: 0.689967, train accuracy: 87.500000, test accuracy: 78.813333\n",
      "Cost after epoch 14: 0.676890, train accuracy: 50.000000, test accuracy: 78.686667\n",
      "Cost after epoch 15: 0.672102, train accuracy: 75.000000, test accuracy: 79.213333\n",
      "Cost after epoch 16: 0.663241, train accuracy: 75.000000, test accuracy: 79.673333\n",
      "Cost after epoch 17: 0.652150, train accuracy: 87.500000, test accuracy: 79.933333\n",
      "Cost after epoch 18: 0.646781, train accuracy: 87.500000, test accuracy: 80.193333\n",
      "Cost after epoch 19: 0.641899, train accuracy: 87.500000, test accuracy: 80.453333\n",
      "Cost after epoch 20: 0.637514, train accuracy: 75.000000, test accuracy: 80.326667\n",
      "Cost after epoch 21: 0.632580, train accuracy: 100.000000, test accuracy: 80.720000\n",
      "Cost after epoch 22: 0.633266, train accuracy: 75.000000, test accuracy: 80.800000\n",
      "Cost after epoch 23: 0.625228, train accuracy: 87.500000, test accuracy: 80.780000\n",
      "Cost after epoch 24: 0.619668, train accuracy: 75.000000, test accuracy: 80.886667\n",
      "Cost after epoch 25: 0.621361, train accuracy: 75.000000, test accuracy: 80.953333\n",
      "Cost after epoch 26: 0.615717, train accuracy: 75.000000, test accuracy: 81.120000\n",
      "Cost after epoch 27: 0.616733, train accuracy: 87.500000, test accuracy: 81.346667\n",
      "Cost after epoch 28: 0.613953, train accuracy: 75.000000, test accuracy: 81.260000\n",
      "Cost after epoch 29: 0.612544, train accuracy: 100.000000, test accuracy: 81.306667\n",
      "Cost after epoch 30: 0.612465, train accuracy: 50.000000, test accuracy: 81.346667\n",
      "Cost after epoch 31: 0.613824, train accuracy: 75.000000, test accuracy: 81.513333\n",
      "Cost after epoch 32: 0.608957, train accuracy: 87.500000, test accuracy: 81.513333\n",
      "Cost after epoch 33: 0.608459, train accuracy: 75.000000, test accuracy: 81.520000\n",
      "Cost after epoch 34: 0.607303, train accuracy: 62.500000, test accuracy: 81.533333\n",
      "Cost after epoch 35: 0.603587, train accuracy: 87.500000, test accuracy: 81.673333\n",
      "Cost after epoch 36: 0.605595, train accuracy: 87.500000, test accuracy: 81.693333\n",
      "Cost after epoch 37: 0.605902, train accuracy: 62.500000, test accuracy: 81.733333\n",
      "Cost after epoch 38: 0.604072, train accuracy: 75.000000, test accuracy: 81.673333\n",
      "Cost after epoch 39: 0.601142, train accuracy: 87.500000, test accuracy: 81.680000\n",
      "Cost after epoch 40: 0.605834, train accuracy: 87.500000, test accuracy: 81.726667\n",
      "Cost after epoch 41: 0.603913, train accuracy: 75.000000, test accuracy: 81.773333\n",
      "Cost after epoch 42: 0.603420, train accuracy: 100.000000, test accuracy: 81.753333\n",
      "Cost after epoch 43: 0.602143, train accuracy: 62.500000, test accuracy: 81.780000\n",
      "Cost after epoch 44: 0.603093, train accuracy: 75.000000, test accuracy: 81.813333\n",
      "Cost after epoch 45: 0.602738, train accuracy: 87.500000, test accuracy: 81.760000\n",
      "Cost after epoch 46: 0.603454, train accuracy: 75.000000, test accuracy: 81.726667\n",
      "Cost after epoch 47: 0.603745, train accuracy: 75.000000, test accuracy: 81.773333\n",
      "Cost after epoch 48: 0.599936, train accuracy: 75.000000, test accuracy: 81.780000\n",
      "Cost after epoch 49: 0.599424, train accuracy: 87.500000, test accuracy: 81.806667\n"
     ]
    },
    {
     "data": {
      "image/png": "[encoded data removed]",
      "text/plain": [
       "<Figure size 432x288 with 1 Axes>"
      ]
     },
     "metadata": {},
     "output_type": "display_data"
    }
   ],
   "source": [
    "parameters = model(X_train,Y_train,X_d,Y_d,X_test,optimizer='adam',num_epochs=50,kp=0.8,learning_rate=0.0009)"
   ]
  },
  {
   "cell_type": "code",
   "execution_count": 89,
   "metadata": {
    "ExecuteTime": {
     "end_time": "2018-02-27T04:32:26.996916Z",
     "start_time": "2018-02-27T04:32:26.991901Z"
    }
   },
   "outputs": [
    {
     "name": "stdout",
     "output_type": "stream",
     "text": [
      "(5000,)\n"
     ]
    }
   ],
   "source": [
    "loaded_y = np.load('ans-zz1749.npy')\n",
    "print(loaded_y.shape)"
   ]
  },
  {
   "cell_type": "code",
   "execution_count": 90,
   "metadata": {
    "ExecuteTime": {
     "end_time": "2018-02-27T04:32:27.438163Z",
     "start_time": "2018-02-27T04:32:27.433149Z"
    }
   },
   "outputs": [
    {
     "data": {
      "text/plain": [
       "{0, 1, 2, 3, 4, 5, 6, 7, 8, 9}"
      ]
     },
     "execution_count": 90,
     "metadata": {},
     "output_type": "execute_result"
    }
   ],
   "source": [
    "set(list(loaded_y))"
   ]
  },
  {
   "cell_type": "code",
   "execution_count": 91,
   "metadata": {
    "ExecuteTime": {
     "end_time": "2018-02-27T04:32:31.145802Z",
     "start_time": "2018-02-27T04:32:31.130716Z"
    }
   },
   "outputs": [],
   "source": [
    "dict = {'id':range(5000),'label':[list(dict.keys())[list(dict.values()).index(x)] for x in loaded_y]}"
   ]
  },
  {
   "cell_type": "code",
   "execution_count": 92,
   "metadata": {
    "ExecuteTime": {
     "end_time": "2018-02-27T04:32:32.184542Z",
     "start_time": "2018-02-27T04:32:32.179513Z"
    }
   },
   "outputs": [],
   "source": [
    "data = pd.DataFrame(dict)"
   ]
  },
  {
   "cell_type": "code",
   "execution_count": 93,
   "metadata": {
    "ExecuteTime": {
     "end_time": "2018-02-27T04:32:36.828506Z",
     "start_time": "2018-02-27T04:32:36.806362Z"
    }
   },
   "outputs": [],
   "source": [
    "data.to_csv('ans2-zz1749.csv',index=False)"
   ]
  },
  {
   "cell_type": "code",
   "execution_count": 94,
   "metadata": {
    "ExecuteTime": {
     "end_time": "2018-02-26T04:59:29.656758Z",
     "start_time": "2018-02-26T04:59:29.647233Z"
    }
   },
   "outputs": [],
   "source": [
    "save_predictions('ans-zz1749.npy',data)"
   ]
  },
  {
   "cell_type": "code",
   "execution_count": 95,
   "metadata": {
    "ExecuteTime": {
     "end_time": "2018-02-26T22:06:23.799363Z",
     "start_time": "2018-02-26T22:06:23.793388Z"
    }
   },
   "outputs": [
    {
     "name": "stdout",
     "output_type": "stream",
     "text": [
      "(5000, 2)\n"
     ]
    }
   ],
   "source": [
    "loaded_y = np.load('ans-zz1749.npy')\n",
    "print(loaded_y.shape)"
   ]
  },
  {
   "cell_type": "code",
   "execution_count": 96,
   "metadata": {
    "ExecuteTime": {
     "end_time": "2018-02-26T22:06:28.709713Z",
     "start_time": "2018-02-26T22:06:28.704196Z"
    }
   },
   "outputs": [
    {
     "data": {
      "text/plain": [
       "array([[0, 'horse'],\n",
       "       [1, 'automobile'],\n",
       "       [2, 'deer'],\n",
       "       ...,\n",
       "       [4997, 'airplane'],\n",
       "       [4998, 'automobile'],\n",
       "       [4999, 'automobile']], dtype=object)"
      ]
     },
     "execution_count": 96,
     "metadata": {},
     "output_type": "execute_result"
    }
   ],
   "source": [
    "loaded_y"
   ]
  },
  {
   "cell_type": "code",
   "execution_count": 97,
   "metadata": {
    "ExecuteTime": {
     "end_time": "2018-02-26T05:02:04.564420Z",
     "start_time": "2018-02-26T05:02:04.542362Z"
    }
   },
   "outputs": [],
   "source": [
    "data.to_csv('ans-zz1749.csv',index=False)"
   ]
  },
  {
   "cell_type": "code",
   "execution_count": 98,
   "metadata": {
    "scrolled": false
   },
   "outputs": [
    {
     "data": {
      "text/plain": [
       "array([[0, 0, 0, ..., 1, 0, 0],\n",
       "       [0, 0, 0, ..., 0, 0, 1],\n",
       "       [0, 0, 0, ..., 0, 0, 0],\n",
       "       ...,\n",
       "       [0, 0, 0, ..., 0, 0, 0],\n",
       "       [0, 0, 0, ..., 0, 0, 0],\n",
       "       [0, 0, 1, ..., 0, 0, 0]], dtype=int32)"
      ]
     },
     "execution_count": 98,
     "metadata": {},
     "output_type": "execute_result"
    }
   ],
   "source": [
    "Y_d"
   ]
  },
  {
   "cell_type": "code",
   "execution_count": null,
   "metadata": {},
   "outputs": [],
   "source": []
  }
 ],
 "metadata": {
  "kernelspec": {
   "display_name": "Python 3",
   "language": "python",
   "name": "python3"
  },
  "language_info": {
   "codemirror_mode": {
    "name": "ipython",
    "version": 3
   },
   "file_extension": ".py",
   "mimetype": "text/x-python",
   "name": "python",
   "nbconvert_exporter": "python",
   "pygments_lexer": "ipython3",
   "version": "3.6.4"
  },
  "varInspector": {
   "cols": {
    "lenName": 16,
    "lenType": 16,
    "lenVar": 40
   },
   "kernels_config": {
    "python": {
     "delete_cmd_postfix": "",
     "delete_cmd_prefix": "del ",
     "library": "var_list.py",
     "varRefreshCmd": "print(var_dic_list())"
    },
    "r": {
     "delete_cmd_postfix": ") ",
     "delete_cmd_prefix": "rm(",
     "library": "var_list.r",
     "varRefreshCmd": "cat(var_dic_list()) "
    }
   },
   "types_to_exclude": [
    "module",
    "function",
    "builtin_function_or_method",
    "instance",
    "_Feature"
   ],
   "window_display": false
  }
 },
 "nbformat": 4,
 "nbformat_minor": 2
}
